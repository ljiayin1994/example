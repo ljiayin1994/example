{
    "nbformat_minor": 1, 
    "cells": [
        {
            "source": "## Data Description", 
            "cell_type": "markdown", 
            "metadata": {
                "collapsed": true
            }
        }, 
        {
            "source": "*Describe the data that you will be using to solve the problem or execute your idea. Remember that you will need to use the Foursquare location data to solve the problem or execute your idea. You can absolutely use other datasets in combination with the Foursquare location data. So make sure that you provide adequate explanation and discussion, with examples, of the data that you will be using, even if it is only Foursquare location data.*", 
            "cell_type": "markdown", 
            "metadata": {}
        }, 
        {
            "source": "To consider the problem we can list the datas as below:\n\nI found the Boston Neighborhood data from Analyze Boston government website. ( https://data.boston.gov/organization/boston-maps). The data contains Neighborhood boundaries data layer with combination of zoning neighborhood boundaries, zip code boundaries and 2010 Census tract boundaries. I used this data to create a map with neighborhood superimposed on top. \n\nI used Forsquare API to get the most common venues of given Neighborhood of Boston. I mostly used Geopy package to scape the coordinates for each neighborhood. \n\nI used the acres data from the Analyze Boston dataset to create a choreomap with color scale representing the size of the neighborhood.", 
            "cell_type": "markdown", 
            "metadata": {}
        }, 
        {
            "source": "", 
            "cell_type": "code", 
            "execution_count": null, 
            "outputs": [], 
            "metadata": {}
        }
    ], 
    "nbformat": 4, 
    "metadata": {
        "kernelspec": {
            "display_name": "Python 3.6", 
            "name": "python3", 
            "language": "python"
        }, 
        "language_info": {
            "mimetype": "text/x-python", 
            "nbconvert_exporter": "python", 
            "version": "3.6.8", 
            "name": "python", 
            "pygments_lexer": "ipython3", 
            "file_extension": ".py", 
            "codemirror_mode": {
                "version": 3, 
                "name": "ipython"
            }
        }
    }
}