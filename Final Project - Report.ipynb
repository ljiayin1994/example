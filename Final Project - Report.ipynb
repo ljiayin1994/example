{
    "nbformat_minor": 1, 
    "cells": [
        {
            "source": "# Final Report", 
            "cell_type": "markdown", 
            "metadata": {
                "collapsed": true
            }
        }, 
        {
            "source": "## 1. Introduction ", 
            "cell_type": "markdown", 
            "metadata": {}
        }, 
        {
            "source": "### 1.1 Problem Description ", 
            "cell_type": "markdown", 
            "metadata": {}
        }, 
        {
            "source": "As the capital of Massachusetts and hub of many business and educational resources, Boston has been one of the most populous city in the United States. This is also the city that currently I reside in and deeply love. This project is meant to sort out the most common venues in Boston by neighborhood and provide a helpful guide for visitors and locals alike to track down great food places or other venues they hope to explore. The choreomap (in the report) will display the 26 neighborholds with the color scale representing the size (by acres) of the region.\n\nFor a restaurant owner to decide where they want to open a new restaurant, they first need to decide what are the most popular venues within a certain neighborhood and from there decide how competitive a certain venue is in that neighborhoold. Then based on the type of the venues (for instance, Thai food) they choose the most appropriate neighborhood to open the business.\n\nWe can use data visualization to create maps and charts to help inform the decisions and show how districts are clustered according to the venue density.", 
            "cell_type": "markdown", 
            "metadata": {}
        }, 
        {
            "source": "### 1.2 Data Description", 
            "cell_type": "markdown", 
            "metadata": {}
        }, 
        {
            "source": "To consider the problem we can list the datas as below:\n\n1. I found the Boston Neighborhood data from Analyze Boston government website. ( https://data.boston.gov/organization/boston-maps). The data contains Neighborhood boundaries data layer with combination of zoning neighborhood boundaries, zip code boundaries and 2010 Census tract boundaries. I used this data to create a map with neighborhood superimposed on top.\n\n2. I used Forsquare API to get the most common venues of given Neighborhood of Boston. I mostly used Geopy package to scape the coordinates for each neighborhood.\n\n3. I used the acres data from the Analyze Boston dataset to create a choreomap with color scale representing the size of the neighborhood.", 
            "cell_type": "markdown", 
            "metadata": {}
        }, 
        {
            "source": "### 1.3 Data Cleaning ", 
            "cell_type": "markdown", 
            "metadata": {}
        }, 
        {
            "source": "First of all, I throw out irrelevant columns just leaving the Name of the Neighborhood and the Acres corresponding to the neighborhoods. \n\nSecondly, I used Nominatim geopy to locate the coordinates for the neighborhoolds and separated the coordinates in to 2 columns Lat and Long. Some neighborhoods are not correctly reflected so I manually adjusted the center of coordinates based on the google coordinates. \n\nThis closed the steps for data cleaning. The results is a dataframe with 26 rows and 5 columns for name, acres, coordinates, latitude, longitude. ", 
            "cell_type": "markdown", 
            "metadata": {}
        }, 
        {
            "source": "## 2. Methodology", 
            "cell_type": "markdown", 
            "metadata": {}
        }, 
        {
            "source": "1. For visualization, I used folium library to generate a map centered around Boston with neighborhoods superimposed as dots on top. Also used python plt library to generate bar chart for specific area of interest to visualize the counts of the venues and etc.   \n<br />\n2. For venues dataframe collection and initial analysis, I used Foursquare API and set the radius to 500 meters to get a package of venues then limit the coordinates to Boston neighborhoods and create a summary view to count the venues by region. Then generate a barchart to showcase the most popular neighborhoods with 30 venues (i.e. Chinatown, Back Bay) and those less popular neighborhoods with 2 venues (i.e. Dorchester). There are total of 163 uniques venues categories.   \n<br />\n3. Create most common venues dataframe. Turn the venues into dummies and then write a function to returns the most common venues.   \n<br />\n4. Fit a k means clustering model with sklearn.cluster KMeans library. To choose the optimal k-means, use the elbow method to plot sum of squared distances for different k and the elbow k turns out to be 3 or 7 but 7 seems to be a more logical choice given the map. Set cluster to 7 and start fitting the model to group together neighborhoods with similar venue density.   \n<br />\n5. Create a merged table with our venues data and the geospacial coordinates. Using the matplotlib to create a map with color coding based on the clusters that we generate from the previous step. Based on the map we should now have a better understanding to solve our business problem.  ", 
            "cell_type": "markdown", 
            "metadata": {}
        }, 
        {
            "source": "## 3. EDA Analysis ", 
            "cell_type": "markdown", 
            "metadata": {}
        }, 
        {
            "source": "For the table generated with the top 10 most common venues by neighborhood, we can see for Allson the top three venues are Korean Rest, Chinese Restaurant and Hot Dog Joint. So it's mainly a food center and possibly with residents from Asian cultural backgrounds. For East Boston, the top 3 are Pizza, LatAm Restaurant and Pharmarcy so we know it's a residential area with LatAm cultural backgrounds. South Boston is more with Sports Bar, Coffee shop and gym. \n\nTo dive in into specific neighborhood, for example, Allston. I generated a subtable called Allston with Allston venues and category. The table summary is ranked by # of venues to give a closer look into certain region.", 
            "cell_type": "markdown", 
            "metadata": {}
        }, 
        {
            "source": "## 4. Results", 
            "cell_type": "markdown", 
            "metadata": {}
        }, 
        {
            "source": "To answer our business question: Where should I open my restaurant? Popularity of the region and regions in similar cluster would be my consideration.\n\nFor instance if I am about to open a Chinese restaurant, the dataframe will return Allston, Chinatown and Leather District as having \"Chinese restaurant\" in 1st most common venues. These are the best options for the restaurant owner because of the relative popularity. He can then sort out regions with similar color codeing in the map (or same cluster labels) in this case cluster 3 to open the restaurant as well. ", 
            "cell_type": "markdown", 
            "metadata": {}
        }, 
        {
            "source": "", 
            "cell_type": "code", 
            "execution_count": null, 
            "outputs": [], 
            "metadata": {}
        }
    ], 
    "nbformat": 4, 
    "metadata": {
        "kernelspec": {
            "display_name": "Python 3.6", 
            "name": "python3", 
            "language": "python"
        }, 
        "language_info": {
            "mimetype": "text/x-python", 
            "nbconvert_exporter": "python", 
            "version": "3.6.8", 
            "name": "python", 
            "pygments_lexer": "ipython3", 
            "file_extension": ".py", 
            "codemirror_mode": {
                "version": 3, 
                "name": "ipython"
            }
        }
    }
}