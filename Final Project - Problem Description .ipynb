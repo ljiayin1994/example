{
    "nbformat_minor": 1, 
    "cells": [
        {
            "source": "## Problem and Background Description", 
            "cell_type": "markdown", 
            "metadata": {
                "collapsed": true
            }
        }, 
        {
            "source": "*Clearly define a problem or an idea of your choice, where you would need to leverage the Foursquare location data to solve or execute. Remember that data science problems always target an audience and are meant to help a group of stakeholders solve a problem, so make sure that you explicitly describe your audience and why they would care about your problem.*", 
            "cell_type": "markdown", 
            "metadata": {}
        }, 
        {
            "source": "As the capital of Massachusetts and hub of many business and educational resources, Boston has been one of the most populous city in the United States. This is also the city that currently I reside in and deeply love. This project is meant to sort out the most common venues in Boston by neighborhood and provide a helpful guide for visitors and locals alike to track down great food places or other venues they hope to explore. The choreomap below display the 26 neighborholds with the color scale representing the size (by acres) of the region. \n\nFor a restaurant owner to decide where they want to open a new restaurant, they first need to decide what are the most popular venues within a certain neighborhood and from there decide how competitive a certain venue is in that neighborhoold. Then based on the type of the food (for instance, Thai food) they choose the most appropriate neighborhood to open the business. \n\nWe can use data visualization to create maps and charts to help inform the decisions and how each district is clustered according to the venue density.", 
            "cell_type": "markdown", 
            "metadata": {}
        }, 
        {
            "execution_count": null, 
            "cell_type": "code", 
            "metadata": {}, 
            "outputs": [], 
            "source": ""
        }
    ], 
    "metadata": {
        "kernelspec": {
            "display_name": "Python 3.6", 
            "name": "python3", 
            "language": "python"
        }, 
        "language_info": {
            "mimetype": "text/x-python", 
            "nbconvert_exporter": "python", 
            "version": "3.6.8", 
            "name": "python", 
            "file_extension": ".py", 
            "pygments_lexer": "ipython3", 
            "codemirror_mode": {
                "version": 3, 
                "name": "ipython"
            }
        }
    }, 
    "nbformat": 4
}